{
 "cells": [
  {
   "cell_type": "code",
   "execution_count": 22,
   "id": "57b6796d",
   "metadata": {},
   "outputs": [],
   "source": [
    "### imports\n",
    "import requests\n",
    "from bs4 import BeautifulSoup\n",
    "import pandas as pd"
   ]
  },
  {
   "cell_type": "code",
   "execution_count": 23,
   "id": "994252ba",
   "metadata": {},
   "outputs": [],
   "source": [
    "# Define the base URL\n",
    "base_url = 'https://www.zameen.com'\n",
    "\n",
    "# Create a session object for making HTTP requests\n",
    "session = requests.Session()\n",
    "\n",
    "# Send a GET request to the areas page\n",
    "response = session.get(f'{base_url}/all_locations/Karachi-2-1-1.html')"
   ]
  },
  {
   "cell_type": "code",
   "execution_count": 24,
   "id": "86ef24cf",
   "metadata": {},
   "outputs": [
    {
     "name": "stdout",
     "output_type": "stream",
     "text": [
      "[<a href=\"https://www.zameen.com/Homes/Karachi_Bahria_Town_Karachi-8298-1.html\">Bahria Town Karachi</a>, <a href=\"https://www.zameen.com/Homes/Karachi_DHA_Defence-213-1.html\">DHA Defence</a>, <a href=\"https://www.zameen.com/Homes/Karachi_Gulshan_e_Iqbal_Town-6858-1.html\">Gulshan-e-Iqbal Town</a>, <a href=\"https://www.zameen.com/Homes/Karachi_Gulistan_e_Jauhar-232-1.html\">Gulistan-e-Jauhar</a>, <a href=\"https://www.zameen.com/Homes/Karachi_North_Nazimabad-11-1.html\">North Nazimabad</a>, <a href=\"https://www.zameen.com/Homes/Karachi_Scheme_33-495-1.html\">Scheme 33</a>, <a href=\"https://www.zameen.com/Homes/Karachi_Gadap_Town-570-1.html\">Gadap Town</a>, <a href=\"https://www.zameen.com/Homes/Karachi_North_Karachi-282-1.html\">North Karachi</a>, <a href=\"https://www.zameen.com/Homes/Karachi_Federal_B._Area-12-1.html\">Federal B Area</a>, <a href=\"https://www.zameen.com/Homes/Karachi_Malir-476-1.html\">Malir</a>, <a href=\"https://www.zameen.com/Homes/Karachi_Nazimabad-278-1.html\">Nazimabad</a>, <a href=\"https://www.zameen.com/Homes/Karachi_Cantt-525-1.html\">Cantt</a>, <a href=\"https://www.zameen.com/Homes/Karachi_Jamshed_Town-6916-1.html\">Jamshed Town</a>, <a href=\"https://www.zameen.com/Homes/Karachi_Clifton-5-1.html\">Clifton</a>, <a href=\"https://www.zameen.com/Homes/Karachi_Korangi-255-1.html\">Korangi</a>, <a href=\"https://www.zameen.com/Homes/Karachi_Navy_Housing_Scheme_Karsaz-11579-1.html\">Navy Housing Scheme Karsaz</a>, <a href=\"https://www.zameen.com/Homes/Karachi_Shah_Faisal_Town-774-1.html\">Shah Faisal Town</a>, <a href=\"https://www.zameen.com/Homes/Karachi_Saddar_Town-7269-1.html\">Saddar Town</a>, <a href=\"https://www.zameen.com/Homes/Karachi_Shahra_e_Faisal-310-1.html\">Shahra-e-Faisal</a>, <a href=\"https://www.zameen.com/Homes/Karachi_Naya_Nazimabad-10079-1.html\">Naya Nazimabad</a>, <a href=\"https://www.zameen.com/Homes/Karachi_Garden_West-10984-1.html\">Garden West</a>, <a href=\"https://www.zameen.com/Homes/Karachi_Bin_Qasim_Town-677-1.html\">Bin Qasim Town</a>, <a href=\"https://www.zameen.com/Homes/Karachi_University_Road-324-1.html\">University Road</a>, <a href=\"https://www.zameen.com/Homes/Karachi_Liaqatabad-681-1.html\">Liaquatabad</a>, <a href=\"https://www.zameen.com/Homes/Karachi_Civil_Lines-493-1.html\">Civil Lines</a>, <a href=\"https://www.zameen.com/Homes/Karachi_Gulberg_Town-6813-1.html\">Gulberg Town</a>, <a href=\"https://www.zameen.com/Homes/Karachi_New_Karachi-1304-1.html\">New Karachi</a>, <a href=\"https://www.zameen.com/Homes/Karachi_Shaheed_Millat_Road-413-1.html\">Shaheed Millat Road</a>, <a href=\"https://www.zameen.com/Homes/Karachi_Bath_Island-198-1.html\">Bath Island</a>, <a href=\"https://www.zameen.com/Homes/Karachi_Orangi_Town-682-1.html\">Orangi Town</a>, <a href=\"https://www.zameen.com/Homes/Karachi_Mehmoodabad-9201-1.html\">Mehmoodabad</a>, <a href=\"https://www.zameen.com/Homes/Karachi_Jamshed_Road-244-1.html\">Jamshed Road</a>, <a href=\"https://www.zameen.com/Homes/Karachi_Abul_Hassan_Isphani_Road-9522-1.html\">Abul Hassan Isphani Road</a>, <a href=\"https://www.zameen.com/Homes/Karachi_Rashid_Minhas_Road-301-1.html\">Rashid Minhas Road</a>, <a href=\"https://www.zameen.com/Homes/Karachi_DHA_City_Karachi-1429-1.html\">DHA City Karachi</a>, <a href=\"https://www.zameen.com/Homes/Karachi_Defence_View_Society-8274-1.html\">Defence View Society</a>, <a href=\"https://www.zameen.com/Homes/Karachi_Khalid_Bin_Walid_Road-253-1.html\">Khalid Bin Walid Road</a>, <a href=\"https://www.zameen.com/Homes/Karachi_Tariq_Road-532-1.html\">Tariq Road</a>, <a href=\"https://www.zameen.com/Homes/Karachi_Frere_Town-224-1.html\">Frere Town</a>, <a href=\"https://www.zameen.com/Homes/Karachi_Jinnah_Avenue-9059-1.html\">Jinnah Avenue</a>, <a href=\"https://www.zameen.com/Homes/Karachi_Guru_Mandir_Chorangi-12114-1.html\">Guru Mandir Chorangi</a>, <a href=\"https://www.zameen.com/Homes/Karachi_Saadi_Road-8849-1.html\">Saadi Road</a>, <a href=\"https://www.zameen.com/Homes/Karachi_Sea_View_Apartments-7292-1.html\">Sea View Apartments</a>, <a href=\"https://www.zameen.com/Homes/Karachi_Saima_Luxury_Homes-10136-1.html\">Saima Luxury Homes</a>, <a href=\"https://www.zameen.com/Homes/Karachi_KN_Gohar_Green_City-14400-1.html\">KN Gohar Green City</a>, <a href=\"https://www.zameen.com/Homes/Karachi_Landhi-402-1.html\">Landhi</a>, <a href=\"https://www.zameen.com/Homes/Karachi_Lyari_Town-488-1.html\">Lyari Town</a>, <a href=\"https://www.zameen.com/Homes/Karachi_KDA_Scheme_1-8292-1.html\">KDA Scheme 1</a>, <a href=\"https://www.zameen.com/Homes/Karachi_Delhi_Colony-6669-1.html\">Delhi Colony</a>, <a href=\"https://www.zameen.com/Homes/Karachi_Manzoor_Colony-267-1.html\">Manzoor Colony</a>, <a href=\"https://www.zameen.com/Homes/Karachi_Gizri-6809-1.html\">Gizri</a>, <a href=\"https://www.zameen.com/Homes/Karachi_P_&amp;_T_Colony-11233-1.html\">P &amp; T Colony</a>, <a href=\"https://www.zameen.com/Homes/Karachi_PIB_Colony-6894-1.html\">PIB Colony</a>, <a href=\"https://www.zameen.com/Homes/Karachi_Baldia_Town-1063-1.html\">Baldia Town</a>, <a href=\"https://www.zameen.com/Homes/Karachi_Zamzama-416-1.html\">Zamzama</a>, <a href=\"https://www.zameen.com/Homes/Karachi_Tipu_Sultan_Road-415-1.html\">Tipu Sultan Road</a>, <a href=\"https://www.zameen.com/Homes/Karachi_Malir_Link_To_Super_Highway-10918-1.html\">Malir Link To Super Highway</a>, <a href=\"https://www.zameen.com/Homes/Karachi_M.A._Jinnah_Road-475-1.html\">M.A. Jinnah Road</a>, <a href=\"https://www.zameen.com/Homes/Karachi_Amir_Khusro-526-1.html\">Amir Khusro</a>, <a href=\"https://www.zameen.com/Homes/Karachi_Gulshan_e_Usman_Housing_Society-10092-1.html\">Gulshan-e-Usman Housing Society</a>, <a href=\"https://www.zameen.com/Homes/Karachi_Punjab_Colony-7253-1.html\">Punjab Colony</a>, <a href=\"https://www.zameen.com/Homes/Karachi_Scheme_45-1026-1.html\">Scheme 45</a>, <a href=\"https://www.zameen.com/Homes/Karachi_Al_Hilal_Society-11941-1.html\">Al-Hilal Society</a>, <a href=\"https://www.zameen.com/Homes/Karachi_Amil_Colony-11638-1.html\">Amil Colony</a>, <a href=\"https://www.zameen.com/Homes/Karachi_Sindh_Industrial_Trading_Estate_(SITE)-683-1.html\">Sindh Industrial Trading Estate (SITE)</a>, <a href=\"https://www.zameen.com/Homes/Karachi_Super_Highway-414-1.html\">Super Highway</a>, <a href=\"https://www.zameen.com/Homes/Karachi_Dastgir_Colony-9780-1.html\">Dastgir Colony</a>, <a href=\"https://www.zameen.com/Homes/Karachi_Callachi_Cooperative_Housing_Society-12954-1.html\">Callachi Cooperative Housing Society</a>, <a href=\"https://www.zameen.com/Homes/Karachi_Airport-187-1.html\">Airport</a>, <a href=\"https://www.zameen.com/Homes/Karachi_Cosmopolitan_Society-11599-1.html\">Cosmopolitan Society</a>, <a href=\"https://www.zameen.com/Homes/Karachi_Karachi_Motorway-10147-1.html\">Karachi Motorway</a>, <a href=\"https://www.zameen.com/Homes/Karachi_Kashmir_Road-9922-1.html\">Kashmir Road</a>, <a href=\"https://www.zameen.com/Homes/Karachi_Anda_Mor_Road-10623-1.html\">Anda Mor Road</a>, <a href=\"https://www.zameen.com/Homes/Karachi_Ranchore_Line_Bazar-11561-1.html\">Ranchore Line Bazar</a>, <a href=\"https://www.zameen.com/Homes/Karachi_Qayyumabad-7254-1.html\">Qayyumabad</a>, <a href=\"https://www.zameen.com/Homes/Karachi_Aisha_Manzil-9514-1.html\">Aisha Manzil</a>, <a href=\"https://www.zameen.com/Homes/Karachi_Hill_Park-758-1.html\">Hill Park</a>, <a href=\"https://www.zameen.com/Homes/Karachi_Shaheed_e_Millat_Expressway-10171-1.html\">Shaheed-e-Millat Expressway</a>, <a href=\"https://www.zameen.com/Homes/Karachi_Muslimabad_Society-12425-1.html\">Muslimabad Society</a>, <a href=\"https://www.zameen.com/Homes/Karachi_Suparco_Road-10698-1.html\">Suparco Road</a>, <a href=\"https://www.zameen.com/Homes/Karachi_National_Highway-474-1.html\">National Highway</a>, <a href=\"https://www.zameen.com/Homes/Karachi_Airport_Road-16274-1.html\">Airport Road</a>, <a href=\"https://www.zameen.com/Homes/Karachi_Baloch_Colony-8962-1.html\">Baloch Colony</a>, <a href=\"https://www.zameen.com/Homes/Karachi_Shadman_2-8959-1.html\">Shadman 2</a>, <a href=\"https://www.zameen.com/Homes/Karachi_Nishtar_Road_(Lawrence_Road)-11048-1.html\">Nishtar Road (Lawrence Road)</a>, <a href=\"https://www.zameen.com/Homes/Karachi_Shahra_e_Qaideen-531-1.html\">Shahra-e-Qaideen</a>, <a href=\"https://www.zameen.com/Homes/Karachi_Khudadad_Colony-9974-1.html\">Khudadad Colony</a>, <a href=\"https://www.zameen.com/Homes/Karachi_Stadium_Road-8918-1.html\">Stadium Road</a>, <a href=\"https://www.zameen.com/Homes/Karachi_Falcon_Complex_Faisal-11088-1.html\">Falcon Complex Faisal</a>, <a href=\"https://www.zameen.com/Homes/Karachi_Azam_Town-10733-1.html\">Azam Town</a>, <a href=\"https://www.zameen.com/Homes/Karachi_Old_Jamia_Millia_Road-16170-1.html\">Old Jamia Millia Road</a>, <a href=\"https://www.zameen.com/Homes/Karachi_Northern_Bypass-1241-1.html\">Northern Bypass</a>, <a href=\"https://www.zameen.com/Homes/Karachi_Abid_Town-10009-1.html\">Abid Town</a>, <a href=\"https://www.zameen.com/Homes/Karachi_Pakistan_Chowk-290-1.html\">Pakistan Chowk</a>, <a href=\"https://www.zameen.com/Homes/Karachi_Khaliq_uz_Zaman_Road-10409-1.html\">Khaliq-uz-Zaman Road</a>, <a href=\"https://www.zameen.com/Homes/Karachi_Kemari_Town-6957-1.html\">Kemari Town</a>, <a href=\"https://www.zameen.com/Homes/Karachi_Old_Ravians_Co_Operative_Housing_Society-9149-1.html\">Old Ravians Co-Operative Housing Society</a>, <a href=\"https://www.zameen.com/Homes/Karachi_Naval_Colony-6650-1.html\">Naval Colony</a>, <a href=\"https://www.zameen.com/Homes/Karachi_Golimar-10223-1.html\">Golimar</a>, <a href=\"https://www.zameen.com/Homes/Karachi_Khuda_Ki_Basti-12260-1.html\">Khuda Ki Basti</a>, <a href=\"https://www.zameen.com/Homes/Karachi_Kashmir_Colony-10905-1.html\">Kashmir Colony</a>, <a href=\"https://www.zameen.com/Homes/Karachi_Police_Society-12337-1.html\">Police Society</a>, <a href=\"https://www.zameen.com/Homes/Karachi_New_Lyari_Expressway_Road-14222-1.html\">New Lyari Expressway Road</a>, <a href=\"https://www.zameen.com/Homes/Karachi_Rufi_Lake_Drive_Apartments-11013-1.html\">Rufi Lake Drive Apartments</a>, <a href=\"https://www.zameen.com/Homes/Karachi_Nawaz_Sharif_Housing_Scheme-13732-1.html\">Nawaz Sharif Housing Scheme</a>, <a href=\"https://www.zameen.com/Homes/Karachi_Kamran_Chowrangi-12526-1.html\">Kamran Chowrangi</a>, <a href=\"https://www.zameen.com/Homes/Karachi_Nawab_Siddique_Ali_Khan_Road-16669-1.html\">Nawab Siddique Ali Khan Road</a>, <a href=\"https://www.zameen.com/Homes/Karachi_Lyari_Expressway-7104-1.html\">Lyari Expressway</a>, <a href=\"https://www.zameen.com/Homes/Karachi_Defence_Garden-10685-1.html\">Defence Garden</a>, <a href=\"https://www.zameen.com/Homes/Karachi_Sakhi_Hassan_Chowrangi-12549-1.html\">Sakhi Hassan Chowrangi</a>, <a href=\"https://www.zameen.com/Homes/Karachi_Darul_Aman_Society-13726-1.html\">Darul Aman Society</a>, <a href=\"https://www.zameen.com/Homes/Karachi_Manghopir_Road-12178-1.html\">Manghopir Road</a>, <a href=\"https://www.zameen.com/Homes/Karachi_Shahra_e_Usman-7311-1.html\">Shahra-e-Usman</a>, <a href=\"https://www.zameen.com/Homes/Karachi_Numaish_Chowrangi-12637-1.html\">Numaish Chowrangi</a>, <a href=\"https://www.zameen.com/Homes/Karachi_Sir_Shah_Muhammad_Suleman_Road-15394-1.html\">Sir Shah Muhammad Suleman Road</a>, <a href=\"https://www.zameen.com/Homes/Karachi_Dalmia_Cement_Factory_Road-10273-1.html\">Dalmia Cement Factory Road</a>, <a href=\"https://www.zameen.com/Homes/Karachi_Oasis_Park_Residencia-17011-1.html\">Oasis Park Residencia</a>, <a href=\"https://www.zameen.com/Homes/Karachi_Rabia_City-10667-1.html\">Rabia City</a>, <a href=\"https://www.zameen.com/Homes/Karachi_Metrovil_Colony-14234-1.html\">Metrovil Colony</a>, <a href=\"https://www.zameen.com/Homes/Karachi_Laraib_Garden-11022-1.html\">Laraib Garden</a>, <a href=\"https://www.zameen.com/Homes/Karachi_Bilal_Town-10335-1.html\">Bilal Town</a>, <a href=\"https://www.zameen.com/Homes/Karachi_Maskan_Chowrangi-11622-1.html\">Maskan Chowrangi</a>, <a href=\"https://www.zameen.com/Homes/Karachi_Lines_Area-11847-1.html\">Lines Area</a>, <a href=\"https://www.zameen.com/Homes/Karachi_Jamaluddin_Afghani_Road-9853-1.html\">Jamaluddin Afghani Road</a>, <a href=\"https://www.zameen.com/Homes/Karachi_Falaknaz_Dynasty-10152-1.html\">Falaknaz Dynasty</a>, <a href=\"https://www.zameen.com/Homes/Karachi_Gadap_Road-12395-1.html\">Gadap Road</a>, <a href=\"https://www.zameen.com/Homes/Karachi_Chapal_Courtyard-9714-1.html\">Chapal Courtyard</a>, <a href=\"https://www.zameen.com/Homes/Karachi_Liaquat_Avenue-9204-1.html\">Liaquat Avenue</a>, <a href=\"https://www.zameen.com/Homes/Karachi_MT_Khan_Road-11238-1.html\">MT Khan Road</a>, <a href=\"https://www.zameen.com/Homes/Karachi_Goth_Ibrahim_Haidri-8991-1.html\">Goth Ibrahim Haidri</a>, <a href=\"https://www.zameen.com/Homes/Karachi_Shahra_e_Jahangir-7310-1.html\">Shahra-e-Jahangir</a>, <a href=\"https://www.zameen.com/Homes/Karachi_Khayaban_e_Ittehad_Road-9991-1.html\">Khayaban-e-Ittehad Road</a>, <a href=\"https://www.zameen.com/Homes/Karachi_Chapal_Uptown-9720-1.html\">Chapal Uptown</a>, <a href=\"https://www.zameen.com/Homes/Karachi_Gulshan_e_Areesha-11968-1.html\">Gulshan-e-Areesha</a>, <a href=\"https://www.zameen.com/Homes/Karachi_Gizri_Road-9515-1.html\">Gizri Road</a>, <a href=\"https://www.zameen.com/Homes/Karachi_Old_Clifton-9052-1.html\">Old Clifton</a>, <a href=\"https://www.zameen.com/Homes/Karachi_Gulshan_e_Malir-11193-1.html\">Gulshan-e-Malir</a>, <a href=\"https://www.zameen.com/Homes/Karachi_BMCHS-10555-1.html\">BMCHS</a>, <a href=\"https://www.zameen.com/Homes/Karachi_Teacher_Society-9073-1.html\">Teacher Society</a>, <a href=\"https://www.zameen.com/Homes/Karachi_Britto_Road-11490-1.html\">Britto Road</a>, <a href=\"https://www.zameen.com/Homes/Karachi_Shahra_e_Liaqat-1394-1.html\">Shahra-e-Liaquat</a>, <a href=\"https://www.zameen.com/Homes/Karachi_Mauripur_Road-7142-1.html\">Mauripur Road</a>, <a href=\"https://www.zameen.com/Homes/Karachi_I.I._Chundrigar_Road-530-1.html\">I.I. Chundrigar Road</a>, <a href=\"https://www.zameen.com/Homes/Karachi_Gulshan_e_Umair-12226-1.html\">Gulshan-e-Umair</a>, <a href=\"https://www.zameen.com/Homes/Karachi_Bolton_Market-10983-1.html\">Bolton Market</a>, <a href=\"https://www.zameen.com/Homes/Karachi_Cutchi_Memon_Cooperative_Housing_Society-11195-1.html\">Cutchi Memon Cooperative Housing Society</a>, <a href=\"https://www.zameen.com/Homes/Karachi_Peoples_Colony-11764-1.html\">Peoples Colony</a>, <a href=\"https://www.zameen.com/Homes/Karachi_Hazara_Colony-6914-1.html\">Hazara Colony</a>, <a href=\"https://www.zameen.com/Homes/Karachi_PAF_Housing_Scheme-9110-1.html\">PAF Housing Scheme</a>, <a href=\"https://www.zameen.com/Homes/Karachi_APP_Employees_Co_operative_Housing_Society-12845-1.html\">APP Employees Co-operative Housing Society</a>, <a href=\"https://www.zameen.com/Homes/Karachi_Rufi_Rose_Petals-9973-1.html\">Rufi Rose Petals</a>, <a href=\"https://www.zameen.com/Homes/Karachi_Erum_Villas-11691-1.html\">Erum Villas</a>, <a href=\"https://www.zameen.com/Homes/Karachi_Cotton_Export_Cooperative_Housing_Society-9069-1.html\">Cotton Export Cooperative Housing Society</a>, <a href=\"https://www.zameen.com/Homes/Karachi_Seven_Wonders_City-9642-1.html\">Seven Wonders City</a>, <a href=\"https://www.zameen.com/Homes/Karachi_Sher_Shah_Suri_Road-11502-1.html\">Sher Shah Suri Road</a>, <a href=\"https://www.zameen.com/Homes/Karachi_Hyderi-17752-1.html\">Hyderi</a>, <a href=\"https://www.zameen.com/Homes/Karachi_Times_Residency-10108-1.html\">Times Residency</a>, <a href=\"https://www.zameen.com/Homes/Karachi_Others-359-1.html\">Others</a>, <a href=\"https://www.zameen.com/Homes/Karachi_Shahrah_e_Pakistan-12728-1.html\">Shahrah-e-Pakistan</a>, <a href=\"https://www.zameen.com/Homes/Karachi_Hub_River_Road-9487-1.html\">Hub River Road</a>, <a href=\"https://www.zameen.com/Homes/Karachi_PIDC-1380-1.html\">PIDC</a>, <a href=\"https://www.zameen.com/Homes/Karachi_ASF_Tower-11892-1.html\">ASF Tower</a>, <a href=\"https://www.zameen.com/Homes/Karachi_Comissioner_Coop_Housing_Society-6668-1.html\">Comissioner Coop Housing Society</a>, <a href=\"https://www.zameen.com/Homes/Karachi_Karachi___Hyderabad_Motorway-17010-1.html\">Karachi - Hyderabad Motorway</a>, <a href=\"https://www.zameen.com/Homes/Karachi_Surti_Muslim_Co_Operative_Housing_Society-11846-1.html\">Surti Muslim Co-Operative Housing Society</a>, <a href=\"https://www.zameen.com/Homes/Karachi_Royal_Defence_Tower-9743-1.html\">Royal Defence Tower</a>, <a href=\"https://www.zameen.com/Homes/Karachi_Malir_Housing_Scheme_1-6605-1.html\">Malir Housing Scheme 1</a>, <a href=\"https://www.zameen.com/Homes/Karachi_Tahir_Villa-11709-1.html\">Tahir Villa</a>, <a href=\"https://www.zameen.com/Homes/Karachi_Punjab_Chowrangi-11547-1.html\">Punjab Chowrangi</a>, <a href=\"https://www.zameen.com/Homes/Karachi_Allama_Iqbal_Town-6563-1.html\">Allama Iqbal Town</a>, <a href=\"https://www.zameen.com/Homes/Karachi_Gulshan_e_Jami-12843-1.html\">Gulshan-e-Jami</a>, <a href=\"https://www.zameen.com/Homes/Karachi_Sharafi_Goth-14019-1.html\">Sharafi Goth</a>, <a href=\"https://www.zameen.com/Homes/Karachi_State_Bank_of_Pakistan_Staff_Co_Operative_Housing_Society-11656-1.html\">State Bank of Pakistan Staff Co-Operative Housing Society</a>, <a href=\"https://www.zameen.com/Homes/Karachi_Mangopir-265-1.html\">Mangopir</a>, <a href=\"https://www.zameen.com/Homes/Karachi_Lalukhet-10073-1.html\">Lalukhet</a>, <a href=\"https://www.zameen.com/Homes/Karachi_Azam_Nagar-13362-1.html\">Azam Nagar</a>, <a href=\"https://www.zameen.com/Homes/Karachi_Gulshan_e_Tauheed-1184-1.html\">Gulshan-e-Tauheed</a>, <a href=\"https://www.zameen.com/Homes/Karachi_ASF_Housing_Scheme-10599-1.html\">ASF Housing Scheme</a>, <a href=\"https://www.zameen.com/Homes/Karachi_circular_road-11559-1.html\">circular road</a>, <a href=\"https://www.zameen.com/Homes/Karachi_Ashraf_Nagar-6564-1.html\">Ashraf Nagar</a>, <a href=\"https://www.zameen.com/Homes/Karachi_Commissioner_Society-14099-1.html\">Commissioner Society</a>, <a href=\"https://www.zameen.com/Homes/Karachi_Nafeesabad-16245-1.html\">Nafeesabad</a>, <a href=\"https://www.zameen.com/Homes/Karachi_Gulbai-10527-1.html\">Gulbai</a>, <a href=\"https://www.zameen.com/Homes/Karachi_Gulistan_e_Malir-13844-1.html\">Gulistan-e-Malir</a>, <a href=\"https://www.zameen.com/Homes/Karachi_Noor_Muhammad_Goth-15474-1.html\">Noor Muhammad Goth</a>, <a href=\"https://www.zameen.com/Homes/Karachi_Gulshan_E_Faisal-12231-1.html\">Gulshan-E-Faisal</a>, <a href=\"https://www.zameen.com/Homes/Karachi_Gujjar_Chowk-11277-1.html\">Gujjar Chowk</a>, <a href=\"https://www.zameen.com/Homes/Karachi_Rizvia_Society-17700-1.html\">Rizvia Society</a>, <a href=\"https://www.zameen.com/Homes/Karachi_Ablagh_e_Aama_Society-14459-1.html\">Ablagh-e-Aama Society</a>, <a href=\"https://www.zameen.com/Homes/Karachi_Damba-12490-1.html\">Damba</a>, <a href=\"https://www.zameen.com/Homes/Karachi_Farhan_Dream_Land-9134-1.html\">Farhan Dream Land</a>, <a href=\"https://www.zameen.com/Homes/Karachi_Siemens_Chowrangi-14261-1.html\">Siemens Chowrangi</a>, <a href=\"https://www.zameen.com/Homes/Karachi_Nooriabad-12092-1.html\">Nooriabad</a>, <a href=\"https://www.zameen.com/Homes/Karachi_Jahanabad-17753-1.html\">Jahanabad</a>, <a href=\"https://www.zameen.com/Homes/Karachi_Gulshan_e_Mustafa-11956-1.html\">Gulshan-e-Mustafa</a>, <a href=\"https://www.zameen.com/Homes/Karachi_Abdullah_Haroon_Road-401-1.html\">Abdullah Haroon Road</a>, <a href=\"https://www.zameen.com/Homes/Karachi_Dhabeji-10895-1.html\">Dhabeji</a>, <a href=\"https://www.zameen.com/Homes/Karachi_Abdullah_Ahmed_Road-9964-1.html\">Abdullah Ahmed Road</a>, <a href=\"https://www.zameen.com/Homes/Karachi_Yousaf_Goth-17705-1.html\">Yousaf Goth</a>, <a href=\"https://www.zameen.com/Homes/Karachi_Gulshan_e_Amin-11939-1.html\">Gulshan-e-Amin</a>, <a href=\"https://www.zameen.com/Homes/Karachi_Dr_Daud_Pota_Road-9882-1.html\">Dr Daud Pota Road</a>]\n"
     ]
    }
   ],
   "source": [
    "### EXTRACTING THE LINKS OF PROPERTY PAGE BY AREAS\n",
    "\n",
    "# Parsing the HTML content\n",
    "html_parser = BeautifulSoup(response.content, 'html.parser')\n",
    "\n",
    "# Finding all divs having the areas info\n",
    "areas_div = html_parser.find('div', id='sub-location-list')\n",
    "\n",
    "# Extracting the areas hyperlinks\n",
    "areas_hyperlinks = areas_div.find_all('a')\n",
    "\n",
    "print(areas_hyperlinks)"
   ]
  },
  {
   "cell_type": "code",
   "execution_count": 28,
   "id": "d5e0f56d",
   "metadata": {},
   "outputs": [],
   "source": [
    "### THIS CELL IS SCRAPPING DATA OF PROPERTIES AREA WISE AND PUSHING THEM IN A DICTIONARY\n",
    "### WE ALREADY HAVE A CSV FOR THIS SCRAPPED DATA SO DONT NEED TO RUN IT EVERY TIME\n",
    "### AS THE CELL EXECUTION MIGHT TAKE UPTO 30 MINS\n",
    "\n",
    "result = {}\n",
    "\n",
    "# Process each city link\n",
    "for link in areas_hyperlinks:\n",
    "    area_url = link['href']\n",
    "    area_name = link.text.strip()    # Getting Area Name\n",
    "    \n",
    "    # Send a GET request to the area's property listings page\n",
    "    response = session.get(area_url)\n",
    "    \n",
    "    # Parsing the HTML content for Each Area Hyperlink\n",
    "    html_parser = BeautifulSoup(response.content, 'html.parser')\n",
    "    \n",
    "    # Find all property links on the page\n",
    "    property_links = html_parser.find_all('a', class_='_7ac32433')\n",
    "    \n",
    "    # Create a list to store the property details for the city\n",
    "    properties_list = []\n",
    "    \n",
    "    # Process each property link\n",
    "    for property_link in property_links:\n",
    "        property_url = f\"{base_url}{property_link['href']}\"\n",
    "        \n",
    "        # Send a GET request to the property page\n",
    "        property_response = session.get(property_url)\n",
    "        \n",
    "        # Parse the HTML content of the property page\n",
    "        property_soup = BeautifulSoup(property_response.content, 'html.parser')\n",
    "        \n",
    "        # Extract and process property details\n",
    "        details_container = property_soup.find('ul', class_='_033281ab')\n",
    "        \n",
    "        if details_container:\n",
    "            details_items = details_container.find_all('li')\n",
    "            \n",
    "            property_details = {}\n",
    "            \n",
    "            for item in details_items:\n",
    "                key = item.find('span', class_='_3af7fa95').text.strip()\n",
    "                value = item.find('span', class_='_812aa185').text.strip()\n",
    "                property_details[key] = value\n",
    "            \n",
    "            # Append the property details to the city's properties list\n",
    "            properties_list.append(property_details)\n",
    "    \n",
    "    # Add the city's properties list to the result dictionary\n",
    "    result[area_name] = properties_list"
   ]
  },
  {
   "cell_type": "code",
   "execution_count": 39,
   "id": "928ab8b5",
   "metadata": {},
   "outputs": [
    {
     "name": "stdout",
     "output_type": "stream",
     "text": [
      "Data saved to property_data2.csv\n"
     ]
    }
   ],
   "source": [
    "### Normalizing the RESULT object so it can be saved in a csv\n",
    "\n",
    "# Create an empty DataFrame to store the normalized data\n",
    "df = pd.DataFrame()\n",
    "\n",
    "# Iterate over each area and its properties\n",
    "for area, properties in result.items():\n",
    "    # Convert properties to DataFrame\n",
    "    area_df = pd.DataFrame(properties)\n",
    "    \n",
    "    # Add a 'City' column with the city name\n",
    "    area_df['Area Name'] = area\n",
    "    \n",
    "    # Append the city_df to the main DataFrame\n",
    "    df = df.append(area_df, ignore_index=True)\n",
    "\n",
    "# Save the DataFrame to a CSV file\n",
    "csv_file = 'property_data2.csv'\n",
    "df.to_csv(csv_file, index=False)\n",
    "print(f\"Data saved to {csv_file}\")"
   ]
  },
  {
   "cell_type": "code",
   "execution_count": 40,
   "id": "4612621c",
   "metadata": {
    "scrolled": true
   },
   "outputs": [
    {
     "data": {
      "text/html": [
       "<div>\n",
       "<style scoped>\n",
       "    .dataframe tbody tr th:only-of-type {\n",
       "        vertical-align: middle;\n",
       "    }\n",
       "\n",
       "    .dataframe tbody tr th {\n",
       "        vertical-align: top;\n",
       "    }\n",
       "\n",
       "    .dataframe thead th {\n",
       "        text-align: right;\n",
       "    }\n",
       "</style>\n",
       "<table border=\"1\" class=\"dataframe\">\n",
       "  <thead>\n",
       "    <tr style=\"text-align: right;\">\n",
       "      <th></th>\n",
       "      <th>Type</th>\n",
       "      <th>Price</th>\n",
       "      <th>Location</th>\n",
       "      <th>Bath(s)</th>\n",
       "      <th>Area</th>\n",
       "      <th>Purpose</th>\n",
       "      <th>Bedroom(s)</th>\n",
       "      <th>Added</th>\n",
       "      <th>Initial Amount</th>\n",
       "      <th>Monthly Installment</th>\n",
       "      <th>Remaining Installments</th>\n",
       "      <th>Area Name</th>\n",
       "    </tr>\n",
       "  </thead>\n",
       "  <tbody>\n",
       "    <tr>\n",
       "      <th>4087</th>\n",
       "      <td>Flat</td>\n",
       "      <td>PKR2.9 Crore</td>\n",
       "      <td>Dr Daud Pota Road, Karachi, Sindh</td>\n",
       "      <td>4</td>\n",
       "      <td>200 Sq. Yd.</td>\n",
       "      <td>For Sale</td>\n",
       "      <td>4</td>\n",
       "      <td>4 years ago</td>\n",
       "      <td>NaN</td>\n",
       "      <td>NaN</td>\n",
       "      <td>NaN</td>\n",
       "      <td>Dr Daud Pota Road</td>\n",
       "    </tr>\n",
       "    <tr>\n",
       "      <th>4088</th>\n",
       "      <td>Flat</td>\n",
       "      <td>PKR60 Lakh</td>\n",
       "      <td>Dr Daud Pota Road, Karachi, Sindh</td>\n",
       "      <td>2</td>\n",
       "      <td>111 Sq. Yd.</td>\n",
       "      <td>For Sale</td>\n",
       "      <td>2</td>\n",
       "      <td>3 years ago</td>\n",
       "      <td>NaN</td>\n",
       "      <td>NaN</td>\n",
       "      <td>NaN</td>\n",
       "      <td>Dr Daud Pota Road</td>\n",
       "    </tr>\n",
       "    <tr>\n",
       "      <th>4089</th>\n",
       "      <td>Flat</td>\n",
       "      <td>PKR9 Crore</td>\n",
       "      <td>Dr Daud Pota Road, Karachi, Sindh</td>\n",
       "      <td>2</td>\n",
       "      <td>83 Sq. Yd.</td>\n",
       "      <td>For Sale</td>\n",
       "      <td>2</td>\n",
       "      <td>5 years ago</td>\n",
       "      <td>NaN</td>\n",
       "      <td>NaN</td>\n",
       "      <td>NaN</td>\n",
       "      <td>Dr Daud Pota Road</td>\n",
       "    </tr>\n",
       "    <tr>\n",
       "      <th>4090</th>\n",
       "      <td>Flat</td>\n",
       "      <td>PKR70 Lakh</td>\n",
       "      <td>Dr Daud Pota Road, Karachi, Sindh</td>\n",
       "      <td>-</td>\n",
       "      <td>85 Sq. Yd.</td>\n",
       "      <td>For Sale</td>\n",
       "      <td>-</td>\n",
       "      <td>5 years ago</td>\n",
       "      <td>NaN</td>\n",
       "      <td>NaN</td>\n",
       "      <td>NaN</td>\n",
       "      <td>Dr Daud Pota Road</td>\n",
       "    </tr>\n",
       "    <tr>\n",
       "      <th>4091</th>\n",
       "      <td>Flat</td>\n",
       "      <td>PKR85 Lakh</td>\n",
       "      <td>Dr Daud Pota Road, Karachi, Sindh</td>\n",
       "      <td>3</td>\n",
       "      <td>222 Sq. Yd.</td>\n",
       "      <td>For Sale</td>\n",
       "      <td>3</td>\n",
       "      <td>9 years ago</td>\n",
       "      <td>NaN</td>\n",
       "      <td>NaN</td>\n",
       "      <td>NaN</td>\n",
       "      <td>Dr Daud Pota Road</td>\n",
       "    </tr>\n",
       "  </tbody>\n",
       "</table>\n",
       "</div>"
      ],
      "text/plain": [
       "      Type         Price                           Location Bath(s)  \\\n",
       "4087  Flat  PKR2.9 Crore  Dr Daud Pota Road, Karachi, Sindh       4   \n",
       "4088  Flat    PKR60 Lakh  Dr Daud Pota Road, Karachi, Sindh       2   \n",
       "4089  Flat    PKR9 Crore  Dr Daud Pota Road, Karachi, Sindh       2   \n",
       "4090  Flat    PKR70 Lakh  Dr Daud Pota Road, Karachi, Sindh       -   \n",
       "4091  Flat    PKR85 Lakh  Dr Daud Pota Road, Karachi, Sindh       3   \n",
       "\n",
       "             Area   Purpose Bedroom(s)        Added Initial Amount  \\\n",
       "4087  200 Sq. Yd.  For Sale          4  4 years ago            NaN   \n",
       "4088  111 Sq. Yd.  For Sale          2  3 years ago            NaN   \n",
       "4089   83 Sq. Yd.  For Sale          2  5 years ago            NaN   \n",
       "4090   85 Sq. Yd.  For Sale          -  5 years ago            NaN   \n",
       "4091  222 Sq. Yd.  For Sale          3  9 years ago            NaN   \n",
       "\n",
       "     Monthly Installment Remaining Installments          Area Name  \n",
       "4087                 NaN                    NaN  Dr Daud Pota Road  \n",
       "4088                 NaN                    NaN  Dr Daud Pota Road  \n",
       "4089                 NaN                    NaN  Dr Daud Pota Road  \n",
       "4090                 NaN                    NaN  Dr Daud Pota Road  \n",
       "4091                 NaN                    NaN  Dr Daud Pota Road  "
      ]
     },
     "metadata": {},
     "output_type": "display_data"
    }
   ],
   "source": [
    "display(df.tail())"
   ]
  },
  {
   "cell_type": "code",
   "execution_count": 42,
   "id": "cfdf69d1",
   "metadata": {},
   "outputs": [],
   "source": [
    "### TODO: WE CAN DO SOME NORMALIZATION. LIKE CONVERTING PRICE INTO NUMERIC VALUE (e.g. PKR2.9 Crore => 29000000), MAKING NaN to 0 so that data is sanitized"
   ]
  },
  {
   "cell_type": "code",
   "execution_count": 43,
   "id": "76543638",
   "metadata": {},
   "outputs": [],
   "source": [
    "### TODO: VISUALIZATION PLOTTING ON DATAFRAME"
   ]
  },
  {
   "cell_type": "code",
   "execution_count": null,
   "id": "c0055493",
   "metadata": {},
   "outputs": [],
   "source": [
    "### WE CAN LATER MAKE A REGRESSION MODEL AS WELL LIKE PRICE PREDICTION etc..."
   ]
  }
 ],
 "metadata": {
  "kernelspec": {
   "display_name": "Python 3 (ipykernel)",
   "language": "python",
   "name": "python3"
  },
  "language_info": {
   "codemirror_mode": {
    "name": "ipython",
    "version": 3
   },
   "file_extension": ".py",
   "mimetype": "text/x-python",
   "name": "python",
   "nbconvert_exporter": "python",
   "pygments_lexer": "ipython3",
   "version": "3.9.7"
  }
 },
 "nbformat": 4,
 "nbformat_minor": 5
}
